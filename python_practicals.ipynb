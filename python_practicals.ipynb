{
 "cells": [
  {
   "cell_type": "code",
   "execution_count": 3,
   "id": "2d9ddddc-dec9-4064-ad5d-835281c28d1c",
   "metadata": {},
   "outputs": [
    {
     "name": "stdin",
     "output_type": "stream",
     "text": [
      "Enter number :  5\n"
     ]
    },
    {
     "name": "stdout",
     "output_type": "stream",
     "text": [
      "Factorial of 5 is 120\n"
     ]
    }
   ],
   "source": [
    "#  Practical - 1 \n",
    "'''\n",
    "Write a Python program to calculate the factorial of a number. \n",
    "'''\n",
    "def calculate_factorial(num):\n",
    "    if num==0 or num==1:\n",
    "        return 1\n",
    "    else:\n",
    "        return num*calculate_factorial(num-1)\n",
    "\n",
    "def main():\n",
    "    num=int(input(\"Enter number : \"))\n",
    "    factorial=calculate_factorial(num)\n",
    "    print(f\"Factorial of {num} is {factorial}\")\n",
    "\n",
    "if __name__=='__main__':\n",
    "    main()"
   ]
  },
  {
   "cell_type": "code",
   "execution_count": 8,
   "id": "3b2c2c0d-e020-4712-b98e-88d61b4213e5",
   "metadata": {},
   "outputs": [
    {
     "name": "stdin",
     "output_type": "stream",
     "text": [
      "Enter a  number :  50\n"
     ]
    },
    {
     "name": "stdout",
     "output_type": "stream",
     "text": [
      "Prime numbers between 1 to 50 are :\n",
      "2 3 5 7 11 13 17 19 23 29 31 37 41 43 47 "
     ]
    }
   ],
   "source": [
    "#  Practical - 2 \n",
    "'''\n",
    "Write a Python program to generate prime numbers between 1 to n, where n is provided as input by \n",
    "the user.\n",
    "'''\n",
    "def isPrime(num):\n",
    "    for i in range(2,int(num**0.5)+1):\n",
    "        if num%i == 0:\n",
    "            return False\n",
    "    return True\n",
    "\n",
    "def main():\n",
    "    num=int(input(\"Enter a  number : \"))\n",
    "    print(f\"Prime numbers between {1} to {num} are :\")\n",
    "    for el in range(2,num+1):\n",
    "        if isPrime(el):\n",
    "            print(el,end=\" \")\n",
    "\n",
    "if __name__=='__main__':\n",
    "    main()"
   ]
  },
  {
   "cell_type": "code",
   "execution_count": 5,
   "id": "89d6168a-2fed-4cf0-b8dd-b5a6696b4bdd",
   "metadata": {},
   "outputs": [
    {
     "name": "stdin",
     "output_type": "stream",
     "text": [
      "Enter numbers seprated by space :  1 2 3 4 5 6 7 \n"
     ]
    },
    {
     "name": "stdout",
     "output_type": "stream",
     "text": [
      "Sum of numbers is 28 and average of numbers is 4.0\n"
     ]
    }
   ],
   "source": [
    "# Practical - 3 \n",
    "'''\n",
    " Write a Python program to find the sum and average of numbers in a given list. \n",
    "'''\n",
    "\n",
    "def main():\n",
    "    numbers=list(map(int,input(\"Enter numbers seprated by space : \").split()))\n",
    "    sum_nums=sum(numbers)\n",
    "    average=sum_nums/len(numbers)\n",
    "    print(f\"Sum of numbers is {sum_nums} and average of numbers is {average}\")\n",
    "\n",
    "if __name__==\"__main__\":\n",
    "    main()"
   ]
  },
  {
   "cell_type": "code",
   "execution_count": 10,
   "id": "340796ee-162c-4532-a99d-1a648aa51efc",
   "metadata": {},
   "outputs": [
    {
     "name": "stdout",
     "output_type": "stream",
     "text": [
      "Intersection of set1 and set2 is - {1, 5}\n",
      "Union of set1 and set2 is - {1, 2, 3, 4, 5, 6, 9, 10, 11}\n"
     ]
    }
   ],
   "source": [
    "# Practical - 4\n",
    "'''\n",
    " Given two sets, set1 and set2, write a Python program to find their union, intersection and difference.\n",
    "'''\n",
    "def main():\n",
    "    set1={1,2,5,4,5,11}\n",
    "    set2={9,6,5,10,3,1}\n",
    "    union_set=set1 | set2  # union of set1 and set2\n",
    "    intersection_set=set1 & set2 # intersection of set1 and set2\n",
    "    print(f\"Intersection of set1 and set2 is - {intersection_set}\")\n",
    "    print(f\"Union of set1 and set2 is - {union_set}\")\n",
    "\n",
    "if __name__==\"__main__\":\n",
    "    main()"
   ]
  },
  {
   "cell_type": "code",
   "execution_count": 19,
   "id": "31172c72-5386-413b-adc4-3dc582e77696",
   "metadata": {},
   "outputs": [
    {
     "name": "stdout",
     "output_type": "stream",
     "text": [
      "Dictionary of numbers count is : {1: 2, 4: 4, 3: 2, 2: 3, 6: 1, 9: 1, 0: 1}\n"
     ]
    }
   ],
   "source": [
    "# Practical - 5\n",
    "\"\"\"\n",
    "Given a list of numbers, write a Python program to count the number of times an element occurs in a \n",
    "list and create a dictionary with element:count as key:value pairs\n",
    "\"\"\"\n",
    "def main():\n",
    "    numbers=[1,4,3,2,4,2,3,4,6,9,0,2,1,4]\n",
    "    ncd = {} # num count dict\n",
    "    for el in numbers:\n",
    "        if el in ncd:\n",
    "            ncd[el]+=1\n",
    "        else:\n",
    "            ncd[el]=1\n",
    "    print(f\"Dictionary of numbers count is : {ncd}\")\n",
    "    \n",
    "if __name__==\"__main__\":\n",
    "    main()"
   ]
  },
  {
   "cell_type": "code",
   "execution_count": null,
   "id": "5bb446e1-9386-417e-a579-35d80cba871e",
   "metadata": {},
   "outputs": [],
   "source": []
  },
  {
   "cell_type": "code",
   "execution_count": null,
   "id": "9f85c8d1-533a-42d8-ab3a-0399f2e34341",
   "metadata": {},
   "outputs": [],
   "source": [
    "# Practical - 6\n",
    "\n",
    "def main():\n",
    "    pass\n",
    "\n",
    "if __name__==\"__main__\"\n",
    "    main()"
   ]
  },
  {
   "cell_type": "code",
   "execution_count": null,
   "id": "7cc97726-c0ea-468d-901a-023d064fe70d",
   "metadata": {},
   "outputs": [],
   "source": [
    "# Practical - 7\n",
    "\n",
    "def main():\n",
    "    pass\n",
    "\n",
    "if __name__==\"__main__\"\n",
    "    main()"
   ]
  },
  {
   "cell_type": "code",
   "execution_count": null,
   "id": "54a3baff-6132-443a-b3d7-c7f8b83c67f7",
   "metadata": {},
   "outputs": [],
   "source": [
    "# Practical - 8\n",
    "\n",
    "def main():\n",
    "    pass\n",
    "\n",
    "if __name__==\"__main__\"\n",
    "    main()"
   ]
  },
  {
   "cell_type": "code",
   "execution_count": null,
   "id": "64255520-839d-48fe-8d08-9dd54af07ca5",
   "metadata": {},
   "outputs": [],
   "source": [
    "# Practical - 9\n",
    "\n",
    "def main():\n",
    "    pass\n",
    "\n",
    "if __name__==\"__main__\"\n",
    "    main()"
   ]
  },
  {
   "cell_type": "code",
   "execution_count": null,
   "id": "2593531a-a443-4901-8430-284e2be3f937",
   "metadata": {},
   "outputs": [],
   "source": [
    "# Practical - 10\n",
    "\n",
    "def main():\n",
    "    pass\n",
    "\n",
    "if __name__==\"__main__\"\n",
    "    main()"
   ]
  },
  {
   "cell_type": "code",
   "execution_count": null,
   "id": "ec26875c-6c1b-4d55-b9ef-d68d86c25743",
   "metadata": {},
   "outputs": [],
   "source": [
    "# Practical - 11\n",
    "\n",
    "def main():\n",
    "    pass\n",
    "\n",
    "if __name__==\"__main__\"\n",
    "    main()"
   ]
  },
  {
   "cell_type": "code",
   "execution_count": null,
   "id": "d7f4c0e2-1a94-4a5b-9ef6-18e96dae1ca1",
   "metadata": {},
   "outputs": [],
   "source": [
    "# Practical - 12\n",
    "\n",
    "def main():\n",
    "    pass\n",
    "\n",
    "if __name__==\"__main__\"\n",
    "    main()"
   ]
  },
  {
   "cell_type": "code",
   "execution_count": null,
   "id": "1f7a87e0-7647-4767-a1ef-5926e6702882",
   "metadata": {},
   "outputs": [],
   "source": [
    "# Practical - 13\n",
    "\n",
    "def main():\n",
    "    pass\n",
    "\n",
    "if __name__==\"__main__\"\n",
    "    main()"
   ]
  },
  {
   "cell_type": "code",
   "execution_count": null,
   "id": "1c5492ef-a57e-4373-8bc3-cf95f653d87d",
   "metadata": {},
   "outputs": [],
   "source": [
    "# Practical - 14\n",
    "\n",
    "def main():\n",
    "    pass\n",
    "\n",
    "if __name__==\"__main__\"\n",
    "    main()"
   ]
  },
  {
   "cell_type": "code",
   "execution_count": null,
   "id": "c780a152-4e51-4ac4-a4e8-e4bed829b100",
   "metadata": {},
   "outputs": [],
   "source": [
    "# Practical - 15\n",
    "\n",
    "def main():\n",
    "    pass\n",
    "\n",
    "if __name__==\"__main__\"\n",
    "    main()"
   ]
  },
  {
   "cell_type": "code",
   "execution_count": null,
   "id": "c82a2276-7841-4656-87b0-46da0ace52fa",
   "metadata": {},
   "outputs": [],
   "source": [
    "# Practical - 16\n",
    "\n",
    "def main():\n",
    "    pass\n",
    "\n",
    "if __name__==\"__main__\"\n",
    "    main()"
   ]
  }
 ],
 "metadata": {
  "kernelspec": {
   "display_name": "Python 3 (ipykernel)",
   "language": "python",
   "name": "python3"
  },
  "language_info": {
   "codemirror_mode": {
    "name": "ipython",
    "version": 3
   },
   "file_extension": ".py",
   "mimetype": "text/x-python",
   "name": "python",
   "nbconvert_exporter": "python",
   "pygments_lexer": "ipython3",
   "version": "3.12.4"
  }
 },
 "nbformat": 4,
 "nbformat_minor": 5
}
