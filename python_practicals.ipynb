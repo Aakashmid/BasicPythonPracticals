{
 "cells": [
  {
   "cell_type": "code",
   "execution_count": 1,
   "id": "ccaf6134-1c22-403e-b9ae-e461bcae3f8f",
   "metadata": {},
   "outputs": [
    {
     "name": "stdin",
     "output_type": "stream",
     "text": [
      "Enter number :  5\n"
     ]
    },
    {
     "name": "stdout",
     "output_type": "stream",
     "text": [
      "Factorial of 5 is 120\n"
     ]
    }
   ],
   "source": [
    "##### question - 1 \n",
    "'''\n",
    "Write a Python program to calculate the factorial of a number. \n",
    "'''\n",
    "def calculate_factorial(num):\n",
    "    if num==0 or num==1:\n",
    "        return 1\n",
    "    else:\n",
    "        return num*calculate_factorial(num-1)\n",
    "\n",
    "def main():\n",
    "    num=int(input(\"Enter number : \"))\n",
    "    factorial=calculate_factorial(num)\n",
    "    print(f\"Factorial of {num} is {factorial}\")\n",
    "\n",
    "if __name__=='__main__':\n",
    "    main()"
   ]
  },
  {
   "cell_type": "code",
   "execution_count": 8,
   "id": "3b2c2c0d-e020-4712-b98e-88d61b4213e5",
   "metadata": {},
   "outputs": [
    {
     "name": "stdout",
     "output_type": "stream",
     "text": [
      "Enter a  number :  50\n"
     ]
    },
    {
     "name": "stdout",
     "output_type": "stream",
     "text": [
      "Prime numbers between 1 to 50 are :\n",
      "2 3 5 7 11 13 17 19 23 29 31 37 41 43 47 "
     ]
    }
   ],
   "source": [
    "#  question - 2 \n",
    "'''\n",
    "Write a Python program to generate prime numbers between 1 to n, where n is provided as input by \n",
    "the user.\n",
    "'''\n",
    "def isPrime(num):\n",
    "    for i in range(2,int(num**0.5)+1):\n",
    "        if num%i == 0:\n",
    "            return False\n",
    "    return True\n",
    "\n",
    "def main():\n",
    "    num=int(input(\"Enter a  number : \"))\n",
    "    print(f\"Prime numbers between {1} to {num} are :\")\n",
    "    for el in range(2,num+1):\n",
    "        if isPrime(el):\n",
    "            print(el,end=\" \")\n",
    "\n",
    "if __name__=='__main__':\n",
    "    main()"
   ]
  },
  {
   "cell_type": "code",
   "execution_count": 5,
   "id": "89d6168a-2fed-4cf0-b8dd-b5a6696b4bdd",
   "metadata": {},
   "outputs": [
    {
     "name": "stdout",
     "output_type": "stream",
     "text": [
      "Enter numbers seprated by space :  1 2 3 4 5 6 7 \n"
     ]
    },
    {
     "name": "stdout",
     "output_type": "stream",
     "text": [
      "Sum of numbers is 28 and average of numbers is 4.0\n"
     ]
    }
   ],
   "source": [
    "# question - 3 \n",
    "'''\n",
    " Write a Python program to find the sum and average of numbers in a given list. \n",
    "'''\n",
    "\n",
    "def main():\n",
    "    numbers=list(map(int,input(\"Enter numbers seprated by space : \").split()))\n",
    "    sum_nums=sum(numbers)\n",
    "    average=sum_nums/len(numbers)\n",
    "    print(f\"Sum of numbers is {sum_nums} and average of numbers is {average}\")\n",
    "\n",
    "if __name__==\"__main__\":\n",
    "    main()"
   ]
  },
  {
   "cell_type": "code",
   "execution_count": 10,
   "id": "340796ee-162c-4532-a99d-1a648aa51efc",
   "metadata": {},
   "outputs": [
    {
     "name": "stdout",
     "output_type": "stream",
     "text": [
      "Intersection of set1 and set2 is - {1, 5}\n",
      "Union of set1 and set2 is - {1, 2, 3, 4, 5, 6, 9, 10, 11}\n"
     ]
    }
   ],
   "source": [
    "# question - 4\n",
    "'''\n",
    " Given two sets, set1 and set2, write a Python program to find their union, intersection and difference.\n",
    "'''\n",
    "def main():\n",
    "    set1={1,2,5,4,5,11}\n",
    "    set2={9,6,5,10,3,1}\n",
    "    union_set=set1 | set2  # union of set1 and set2\n",
    "    intersection_set=set1 & set2 # intersection of set1 and set2\n",
    "    print(f\"Intersection of set1 and set2 is - {intersection_set}\")\n",
    "    print(f\"Union of set1 and set2 is - {union_set}\")\n",
    "\n",
    "if __name__==\"__main__\":\n",
    "    main()"
   ]
  },
  {
   "cell_type": "code",
   "execution_count": 19,
   "id": "31172c72-5386-413b-adc4-3dc582e77696",
   "metadata": {},
   "outputs": [
    {
     "name": "stdout",
     "output_type": "stream",
     "text": [
      "Dictionary of numbers count is : {1: 2, 4: 4, 3: 2, 2: 3, 6: 1, 9: 1, 0: 1}\n"
     ]
    }
   ],
   "source": [
    "# question - 5\n",
    "\"\"\"\n",
    "Given a list of numbers, write a Python program to count the number of times an element occurs in a \n",
    "list and create a dictionary with element:count as key:value pairs\n",
    "\"\"\"\n",
    "def main():\n",
    "    numbers=[1,4,3,2,4,2,3,4,6,9,0,2,1,4]\n",
    "    ncd = {} # num count dict\n",
    "    for el in numbers:\n",
    "        if el in ncd:\n",
    "            ncd[el]+=1\n",
    "        else:\n",
    "            ncd[el]=1\n",
    "    print(f\"Dictionary of numbers count is : {ncd}\")\n",
    "    \n",
    "if __name__==\"__main__\":\n",
    "    main()"
   ]
  },
  {
   "cell_type": "code",
   "execution_count": null,
   "id": "5bb446e1-9386-417e-a579-35d80cba871e",
   "metadata": {},
   "outputs": [],
   "source": []
  },
  {
   "cell_type": "code",
   "execution_count": 6,
   "id": "9f85c8d1-533a-42d8-ab3a-0399f2e34341",
   "metadata": {},
   "outputs": [
    {
     "name": "stdout",
     "output_type": "stream",
     "text": [
      "After swapping first two character of string with last two , string converted to -  ldllo WorHe\n"
     ]
    }
   ],
   "source": [
    "# question - 6\n",
    "\"\"\"\n",
    "Write a Python program to swap the first two and last two characters in a given string.\n",
    "\"\"\"\n",
    "def main():\n",
    "    mystr=\"Hello World\"\n",
    "    swapped_str=mystr[-2:]+mystr[2:-2]+mystr[:2]\n",
    "    print(f\"After swapping first two character of string with last two , string converted to -  {swapped_str}\")\n",
    "\n",
    "\n",
    "if __name__==\"__main__\":\n",
    "    main()"
   ]
  },
  {
   "cell_type": "code",
   "execution_count": 10,
   "id": "7cc97726-c0ea-468d-901a-023d064fe70d",
   "metadata": {},
   "outputs": [
    {
     "name": "stdin",
     "output_type": "stream",
     "text": [
      "Enter ten indian cities name seprated by ','  :  chennai, new delhi , hydrabad , c4, c5, c6 , c7 , c8 , c9, c10\n"
     ]
    }
   ],
   "source": [
    "# question - 7\n",
    "\"\"\"\n",
    " Write a Python program to create a text file having names of ten Indian cities. \n",
    "\"\"\"\n",
    "\n",
    "def main():\n",
    "    i_c_n= input(\"Enter ten indian cities name seprated by ','  : \").split(',') # indian cities names\n",
    "    if len(i_c_n) < 10:\n",
    "        print('Cities names are less than 10 ')\n",
    "    else:\n",
    "        fh=open(\"question_7.txt\",'w')\n",
    "        for city in i_c_n :\n",
    "            fh.write(city.strip()+'\\n')\n",
    "\n",
    "if __name__==\"__main__\":\n",
    "    main()"
   ]
  },
  {
   "cell_type": "code",
   "execution_count": 9,
   "id": "54a3baff-6132-443a-b3d7-c7f8b83c67f7",
   "metadata": {},
   "outputs": [
    {
     "name": "stdin",
     "output_type": "stream",
     "text": [
      "Write a line about your college :  my college name is dduc\n",
      "Write a line about your college :  this is college of du\n",
      "Write a line about your college :  it has all subject courses like science , commerce , arts\n",
      "Write a line about your college :  it is spread in 2 hectares \n",
      "Write a line about your college :  its address is Dwarka sector 2\n"
     ]
    }
   ],
   "source": [
    "# question - 8\n",
    "\"\"\"\n",
    "Write a Python program to create a text file having five lines about your columnlege using Writelines() function \n",
    "\"\"\"\n",
    "def main():\n",
    "    lines=[]\n",
    "    for _ in range(5):\n",
    "        line=input(\"Write a line about your columnlege : \")\n",
    "        lines.append(line+\" \\n\")\n",
    "\n",
    "    # create text file to write the lines about columnlege\n",
    "    with open('question_8.txt','w') as fh:\n",
    "        fh.writelines(lines)\n",
    "\n",
    "if __name__==\"__main__\":\n",
    "    main()"
   ]
  },
  {
   "cell_type": "code",
   "execution_count": 6,
   "id": "64255520-839d-48fe-8d08-9dd54af07ca5",
   "metadata": {},
   "outputs": [],
   "source": [
    "# question - 9\n",
    "'''Write a Python program which reads the data from two input files having Employee Names and \n",
    "merges them into one output file. '''\n",
    "def main():\n",
    "    file1='question_9_input1.txt'  # input file 1   ( in both file employee names are sprated by new line\n",
    "    file2='question_9_input2.txt'   # input file 2\n",
    "    output_file=\"question_9_output.txt\"  # output file ,  will contain employee name of both input files \n",
    "    names=[]\n",
    "    with open(file1, 'r') as fh:\n",
    "        names.extend(fh.readlines())  # fh.readlines()  return list of lines \n",
    "        names[len(names)-1]+=\"\\n\"  # add new line char to last element of list \n",
    "    \n",
    "    with open(file2, 'r') as fh:\n",
    "        names.extend(fh.readlines())\n",
    "\n",
    "    with open(output_file, 'w') as fh :\n",
    "        fh.writelines(names)   # write all lines in output file \n",
    "\n",
    "if __name__==\"__main__\":\n",
    "    main()"
   ]
  },
  {
   "cell_type": "code",
   "execution_count": 7,
   "id": "2593531a-a443-4901-8430-284e2be3f937",
   "metadata": {},
   "outputs": [
    {
     "name": "stdout",
     "output_type": "stream",
     "text": [
      "{'a': 80, 'i': 64, 'o': 74, 'u': 16, 'e': 105}\n"
     ]
    }
   ],
   "source": [
    "# question - 10\n",
    "''' Write a Python program to count the number of vowels in a file and write the vowel : count in a \n",
    "dictionary. '''\n",
    "def main():\n",
    "    filename=\"question_10.txt\"  # input file \n",
    "    MyDict={}                    # dictionary contains count of vowel \n",
    "    vowels=['a','i','o','u','e']\n",
    "    with open(filename, 'r') as fh :\n",
    "        content=fh.read().lower()\n",
    "        for el in vowels:\n",
    "            count=content.count(el)   # count occurence of a vowel\n",
    "            MyDict[el]=count          # create dict element of that vowel \n",
    "                \n",
    "    print(MyDict)\n",
    "\n",
    "if __name__==\"__main__\":\n",
    "    main()"
   ]
  },
  {
   "cell_type": "code",
   "execution_count": null,
   "id": "ec26875c-6c1b-4d55-b9ef-d68d86c25743",
   "metadata": {},
   "outputs": [
    {
     "name": "stdin",
     "output_type": "stream",
     "text": [
      "Enter no. of student 2\n"
     ]
    },
    {
     "name": "stdout",
     "output_type": "stream",
     "text": [
      "Enter student specific details for 2 students \n",
      " \n"
     ]
    },
    {
     "name": "stdin",
     "output_type": "stream",
     "text": [
      "Enter Student name :  aakash\n",
      "Enter Course :  BSC PSCS\n",
      "Enter Semester:  3\n",
      "Enter Roll number:  4535\n",
      "Enter Enrollment number :  2342323434\n"
     ]
    }
   ],
   "source": [
    "# question - 11\n",
    "''' Write a Python program to create a CSV file having student data: RollNo, Enrollment_No, Name, \n",
    "Course, Semester. \n",
    "'''\n",
    "\n",
    "import csv \n",
    "\n",
    "def main():\n",
    "    with open('question_11.csv','w') as fh:\n",
    "        writer=csv.writer(fh)\n",
    "        writer.writerow(['RollNo', 'Enrollment_No', 'Name','Course','Semester'])  # Writing header\n",
    "        stu_no=int(input(\"Enter no. of student\"))\n",
    "        print(f\"Enter student specific details for {stu_no} students \\n \")\n",
    "        for i in range(stu_no):\n",
    "            print(f\"{stu_no+1} Student details : - \")\n",
    "            name=input(\"Enter Student name : \")\n",
    "            course=input(\"Enter Course : \")\n",
    "            semester=int(input(\"Enter Semester: \"))\n",
    "            roll_no=int(input(\"Enter Roll number: \"))\n",
    "            enroll_no=int(input(\"Enter Enrollment number : \"))\n",
    "            writer.writerow([roll_no,enroll_no,name,course, semester])\n",
    "\n",
    "if __name__==\"__main__\":\n",
    "    main()"
   ]
  },
  {
   "cell_type": "code",
   "execution_count": null,
   "id": "d7f4c0e2-1a94-4a5b-9ef6-18e96dae1ca1",
   "metadata": {},
   "outputs": [],
   "source": [
    "# question - 12\n",
    "'''\n",
    " Write a Python program library to read the CSV file created in the above program and filter out \n",
    "records of II semester students. \n",
    "'''\n",
    "import csv \n",
    "def main():\n",
    "    with open('question_11.csv','r') as fh:\n",
    "        csv_reader=csv.reader(fh)\n",
    "        print(\"Semester II students records   : \") \n",
    "        students=[]    # will store 2 semester students records\n",
    "        for row in csv_reader:\n",
    "            if row['Semester'] == 2:\n",
    "                students.append(row)\n",
    "                print(row)\n",
    "            \n",
    "if __name__==\"__main__\":\n",
    "    main()"
   ]
  },
  {
   "cell_type": "code",
   "execution_count": 19,
   "id": "1f7a87e0-7647-4767-a1ef-5926e6702882",
   "metadata": {},
   "outputs": [],
   "source": [
    "# question - 13\n",
    "'''\n",
    " Write a Python program using tkinter library to create a GUI to enter registration details for an event.\n",
    "'''\n",
    "from tkinter import *\n",
    "\n",
    "\n",
    "# function to handle submit form action \n",
    "def submit_form():\n",
    "    global entry_name, entry_email,entry_phone\n",
    "    name=entry_name.get()\n",
    "    email=entry_email.get()\n",
    "    phone=entry_phone.get()\n",
    "    print(f\" Name - {name} \\n Email - {email} \\n Phone - {phone}\")\n",
    "\n",
    "def main():\n",
    "    global entry_name, entry_email,entry_phone\n",
    "    wind=Tk()\n",
    "    wind.geometry(\"500x500\")\n",
    "    wind.title(\"Event Registration Form\")\n",
    "\n",
    "    # form inputs label\n",
    "    name_label=Label(wind,text=\"Name :\").grid(row=1,column=1)\n",
    "    email_label=Label(wind,text=\"Email :\").grid(row=2,column=1)\n",
    "    phone_label=Label(wind,text=\"Phone No :\").grid(row=3,column=1)\n",
    "\n",
    "    # form inputs \n",
    "    entry_name=Entry(wind)\n",
    "    entry_name.grid(row=1,column=2,padx=10,pady=5)\n",
    "    entry_email=Entry(wind)\n",
    "    entry_email.grid(row=2,column=2,padx=10,pady=5)\n",
    "    entry_phone=Entry(wind)\n",
    "    entry_phone.grid(row=3,column=2,padx=10,pady=5)\n",
    "    \n",
    "    # Submit form button  \n",
    "    Button(wind,text=\"Register\", command=submit_form).grid(row=4,column=1,padx=10,pady=5)\n",
    "    wind.mainloop()\n",
    "\n",
    "\n",
    "if __name__==\"__main__\":\n",
    "    main()"
   ]
  },
  {
   "cell_type": "code",
   "execution_count": 17,
   "id": "1c5492ef-a57e-4373-8bc3-cf95f653d87d",
   "metadata": {},
   "outputs": [],
   "source": [
    "# question - 14\n",
    "'''\n",
    "Write a Python program using tkinter library to create a calculator to perform addition, subtraction, \n",
    "multiplication and division of two numbers entered by the user.  \n",
    "'''\n",
    "from tkinter import *\n",
    "import math\n",
    "\n",
    "# function to handle click event\n",
    "def click(event):\n",
    "    global  scvalue,Screen\n",
    "    try:\n",
    "        text=event.widget.cget('text')\n",
    "\n",
    "        Screen.update()\n",
    "        if text==\"=\":\n",
    "            if scvalue.get().isdigit():\n",
    "                value=int(scvalue.get())\n",
    "            else :            \n",
    "                value=eval(scvalue.get())\n",
    "            scvalue.set(value)\n",
    "            Screen.update()\n",
    "\n",
    "        elif text==\"C\":\n",
    "            scvalue.set(\"\")\n",
    "            Screen.update()\n",
    "\n",
    "        else:\n",
    "            scvalue.set(scvalue.get()+text)\n",
    "\n",
    "    except SyntaxError:\n",
    "        scvalue.set('Error')\n",
    "        Screen.update()\n",
    "        print('Error')\n",
    "\n",
    "def main():\n",
    "    window=Tk()\n",
    "    window.geometry('440x580')\n",
    "    window.config(bg='grey')\n",
    "    scvalue=StringVar()\n",
    "    Screen=Entry(window,textvariable=scvalue,font='comicsanms 40 bold')\n",
    "    Screen.pack(pady=10,padx=5)\n",
    "\n",
    "    f1=Frame(window,bg='white')\n",
    "    f1.pack(pady=5,side=BOTTOM)\n",
    "    f2=Frame(window,bg='white')\n",
    "    f2.pack(pady=5,side=BOTTOM)\n",
    "    f3=Frame(window,bg='white')\n",
    "    f3.pack(pady=5,side=BOTTOM)\n",
    "    f4=Frame(window,bg='white')\n",
    "    f4.pack(pady=5,side=BOTTOM)\n",
    " \n",
    "    list1=['0','1','2','3','4','5','6','7','8','9','+','-','*','/','%','=','C','**']\n",
    "    for i in list1:\n",
    "        if list1.index(i)<5:\n",
    "            b=Button(f4,text=i,bg='black',fg='white',font='lucida 37 bold')\n",
    "            b.pack(side=LEFT,padx=5,pady=5)\n",
    "            b.bind('<Button-1>',click)\n",
    "            \n",
    "        \n",
    "        elif list1.index(i)<10 and list1.index(i)>=5:\n",
    "            b=Button(f3,text=i,bg='black',fg='white',font='lucida 37 bold')\n",
    "            b.pack(side=LEFT,padx=5,pady=5)\n",
    "    \n",
    "            b.bind('<Button-1>',click)\n",
    "        elif  list1.index(i)>=10 and list1.index(i)<15:\n",
    "            b=Button(f2,text=i,bg='black',fg='white',font='lucida 37 bold')\n",
    "            b.pack(side=LEFT,padx=5,pady=5)\n",
    "            b.bind('<Button-1>',click)\n",
    "        elif list1.index(i)>=15 and list1.index(i)<20:\n",
    "            b=Button(f1,text=i,bg='black',fg='white',font='lucida 31 bold')\n",
    "            b.pack(side=LEFT,padx=2,pady=5)\n",
    "            b.bind('<Button-1>',click)\n",
    "\n",
    "    #  display window \n",
    "    window.mainloop()\n",
    "\n",
    "if __name__==\"__main__\":\n",
    "    main()\n",
    "    "
   ]
  },
  {
   "cell_type": "code",
   "execution_count": null,
   "id": "c780a152-4e51-4ac4-a4e8-e4bed829b100",
   "metadata": {},
   "outputs": [],
   "source": [
    "# question - 15\n",
    "\n",
    "def main():\n",
    "    pass\n",
    "\n",
    "if __name__==\"__main__\"\n",
    "    main()"
   ]
  },
  {
   "cell_type": "code",
   "execution_count": null,
   "id": "c82a2276-7841-4656-87b0-46da0ace52fa",
   "metadata": {},
   "outputs": [],
   "source": [
    "# question - 16\n",
    "\n",
    "def main():\n",
    "    pass\n",
    "\n",
    "if __name__==\"__main__\"\n",
    "    main()"
   ]
  }
 ],
 "metadata": {
  "kernelspec": {
   "display_name": "Python 3 (ipykernel)",
   "language": "python",
   "name": "python3"
  },
  "language_info": {
   "codemirror_mode": {
    "name": "ipython",
    "version": 3
   },
   "file_extension": ".py",
   "mimetype": "text/x-python",
   "name": "python",
   "nbconvert_exporter": "python",
   "pygments_lexer": "ipython3",
   "version": "3.12.4"
  }
 },
 "nbformat": 4,
 "nbformat_minor": 5
}
