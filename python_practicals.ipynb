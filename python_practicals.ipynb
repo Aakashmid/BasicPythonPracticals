{
 "cells": [
  {
   "cell_type": "code",
   "execution_count": 3,
   "id": "2d9ddddc-dec9-4064-ad5d-835281c28d1c",
   "metadata": {},
   "outputs": [
    {
     "name": "stdin",
     "output_type": "stream",
     "text": [
      "Enter number :  5\n"
     ]
    },
    {
     "name": "stdout",
     "output_type": "stream",
     "text": [
      "Factorial of 5 is 120\n"
     ]
    }
   ],
   "source": [
    "#  Practical - 1 \n",
    "'''\n",
    "Write a Python program to calculate the factorial of a number. \n",
    "'''\n",
    "def calculate_factorial(num):\n",
    "    if num==0 or num==1:\n",
    "        return 1\n",
    "    else:\n",
    "        return num*calculate_factorial(num-1)\n",
    "\n",
    "def main():\n",
    "    num=int(input(\"Enter number : \"))\n",
    "    factorial=calculate_factorial(num)\n",
    "    print(f\"Factorial of {num} is {factorial}\")\n",
    "\n",
    "if __name__=='__main__':\n",
    "    main()"
   ]
  },
  {
   "cell_type": "code",
   "execution_count": null,
   "id": "3b2c2c0d-e020-4712-b98e-88d61b4213e5",
   "metadata": {},
   "outputs": [],
   "source": [
    "#  Practical - 2 \n",
    "'''\n",
    "Write a Python program to generate prime numbers between 1 to n, where n is provided as input by \n",
    "the user.\n",
    "'''\n",
    "def isPrime(num):\n",
    "    # for i in range(1,num**0.5\n",
    "    pass\n",
    "    \n",
    "def main():\n",
    "    num=int(input(\"Enter number : \"))\n",
    "    \n",
    "    print(f\"Factorial of {num} is {factorial}\")\n",
    "\n",
    "if __name__=='__main__':\n",
    "    main()"
   ]
  },
  {
   "cell_type": "code",
   "execution_count": null,
   "id": "89d6168a-2fed-4cf0-b8dd-b5a6696b4bdd",
   "metadata": {},
   "outputs": [],
   "source": []
  },
  {
   "cell_type": "code",
   "execution_count": null,
   "id": "340796ee-162c-4532-a99d-1a648aa51efc",
   "metadata": {},
   "outputs": [],
   "source": []
  }
 ],
 "metadata": {
  "kernelspec": {
   "display_name": "Python 3 (ipykernel)",
   "language": "python",
   "name": "python3"
  },
  "language_info": {
   "codemirror_mode": {
    "name": "ipython",
    "version": 3
   },
   "file_extension": ".py",
   "mimetype": "text/x-python",
   "name": "python",
   "nbconvert_exporter": "python",
   "pygments_lexer": "ipython3",
   "version": "3.12.4"
  }
 },
 "nbformat": 4,
 "nbformat_minor": 5
}
